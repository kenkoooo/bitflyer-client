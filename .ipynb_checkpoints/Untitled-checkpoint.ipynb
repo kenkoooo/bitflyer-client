{
 "cells": [
  {
   "cell_type": "code",
   "execution_count": 1,
   "metadata": {},
   "outputs": [],
   "source": [
    "import pandas as pd"
   ]
  },
  {
   "cell_type": "code",
   "execution_count": 2,
   "metadata": {},
   "outputs": [
    {
     "name": "stdout",
     "output_type": "stream",
     "text": [
      "CPU times: user 33.4 s, sys: 2.27 s, total: 35.7 s\n",
      "Wall time: 38.8 s\n"
     ]
    }
   ],
   "source": [
    "%%time\n",
    "t = pd.read_csv(\"./history.csv\")"
   ]
  },
  {
   "cell_type": "code",
   "execution_count": 3,
   "metadata": {},
   "outputs": [
    {
     "data": {
      "text/html": [
       "<div>\n",
       "<style scoped>\n",
       "    .dataframe tbody tr th:only-of-type {\n",
       "        vertical-align: middle;\n",
       "    }\n",
       "\n",
       "    .dataframe tbody tr th {\n",
       "        vertical-align: top;\n",
       "    }\n",
       "\n",
       "    .dataframe thead th {\n",
       "        text-align: right;\n",
       "    }\n",
       "</style>\n",
       "<table border=\"1\" class=\"dataframe\">\n",
       "  <thead>\n",
       "    <tr style=\"text-align: right;\">\n",
       "      <th></th>\n",
       "      <th>sell_0</th>\n",
       "      <th>sell_1</th>\n",
       "      <th>sell_2</th>\n",
       "      <th>sell_3</th>\n",
       "      <th>sell_4</th>\n",
       "      <th>sell_5</th>\n",
       "      <th>sell_6</th>\n",
       "      <th>sell_7</th>\n",
       "      <th>sell_8</th>\n",
       "      <th>sell_9</th>\n",
       "      <th>...</th>\n",
       "      <th>buy_242</th>\n",
       "      <th>buy_243</th>\n",
       "      <th>buy_244</th>\n",
       "      <th>buy_245</th>\n",
       "      <th>buy_246</th>\n",
       "      <th>buy_247</th>\n",
       "      <th>buy_248</th>\n",
       "      <th>buy_249</th>\n",
       "      <th>side</th>\n",
       "      <th>price</th>\n",
       "    </tr>\n",
       "  </thead>\n",
       "  <tbody>\n",
       "    <tr>\n",
       "      <td>0</td>\n",
       "      <td>-206</td>\n",
       "      <td>-206</td>\n",
       "      <td>-206</td>\n",
       "      <td>-204</td>\n",
       "      <td>-203</td>\n",
       "      <td>-203</td>\n",
       "      <td>-259</td>\n",
       "      <td>-259</td>\n",
       "      <td>-259</td>\n",
       "      <td>-259</td>\n",
       "      <td>...</td>\n",
       "      <td>-578</td>\n",
       "      <td>-578</td>\n",
       "      <td>-658</td>\n",
       "      <td>-613</td>\n",
       "      <td>-614</td>\n",
       "      <td>-654</td>\n",
       "      <td>-644</td>\n",
       "      <td>-482</td>\n",
       "      <td>0</td>\n",
       "      <td>-1402</td>\n",
       "    </tr>\n",
       "    <tr>\n",
       "      <td>1</td>\n",
       "      <td>-205</td>\n",
       "      <td>-205</td>\n",
       "      <td>-205</td>\n",
       "      <td>-203</td>\n",
       "      <td>-202</td>\n",
       "      <td>-202</td>\n",
       "      <td>-258</td>\n",
       "      <td>-258</td>\n",
       "      <td>-258</td>\n",
       "      <td>-258</td>\n",
       "      <td>...</td>\n",
       "      <td>-577</td>\n",
       "      <td>-657</td>\n",
       "      <td>-612</td>\n",
       "      <td>-613</td>\n",
       "      <td>-653</td>\n",
       "      <td>-643</td>\n",
       "      <td>-481</td>\n",
       "      <td>-1401</td>\n",
       "      <td>0</td>\n",
       "      <td>-1401</td>\n",
       "    </tr>\n",
       "    <tr>\n",
       "      <td>2</td>\n",
       "      <td>-206</td>\n",
       "      <td>-206</td>\n",
       "      <td>-206</td>\n",
       "      <td>-204</td>\n",
       "      <td>-203</td>\n",
       "      <td>-203</td>\n",
       "      <td>-259</td>\n",
       "      <td>-259</td>\n",
       "      <td>-259</td>\n",
       "      <td>-259</td>\n",
       "      <td>...</td>\n",
       "      <td>-658</td>\n",
       "      <td>-613</td>\n",
       "      <td>-614</td>\n",
       "      <td>-654</td>\n",
       "      <td>-644</td>\n",
       "      <td>-482</td>\n",
       "      <td>-1402</td>\n",
       "      <td>-1402</td>\n",
       "      <td>0</td>\n",
       "      <td>-482</td>\n",
       "    </tr>\n",
       "    <tr>\n",
       "      <td>3</td>\n",
       "      <td>-116</td>\n",
       "      <td>-116</td>\n",
       "      <td>-116</td>\n",
       "      <td>-114</td>\n",
       "      <td>-113</td>\n",
       "      <td>-113</td>\n",
       "      <td>-169</td>\n",
       "      <td>-169</td>\n",
       "      <td>-169</td>\n",
       "      <td>-169</td>\n",
       "      <td>...</td>\n",
       "      <td>-523</td>\n",
       "      <td>-524</td>\n",
       "      <td>-564</td>\n",
       "      <td>-554</td>\n",
       "      <td>-392</td>\n",
       "      <td>-1312</td>\n",
       "      <td>-1312</td>\n",
       "      <td>-392</td>\n",
       "      <td>0</td>\n",
       "      <td>-392</td>\n",
       "    </tr>\n",
       "    <tr>\n",
       "      <td>4</td>\n",
       "      <td>-312</td>\n",
       "      <td>-312</td>\n",
       "      <td>-312</td>\n",
       "      <td>-310</td>\n",
       "      <td>-309</td>\n",
       "      <td>-309</td>\n",
       "      <td>-365</td>\n",
       "      <td>-365</td>\n",
       "      <td>-365</td>\n",
       "      <td>-365</td>\n",
       "      <td>...</td>\n",
       "      <td>-720</td>\n",
       "      <td>-760</td>\n",
       "      <td>-750</td>\n",
       "      <td>-588</td>\n",
       "      <td>-1508</td>\n",
       "      <td>-1508</td>\n",
       "      <td>-588</td>\n",
       "      <td>-588</td>\n",
       "      <td>0</td>\n",
       "      <td>-587</td>\n",
       "    </tr>\n",
       "    <tr>\n",
       "      <td>...</td>\n",
       "      <td>...</td>\n",
       "      <td>...</td>\n",
       "      <td>...</td>\n",
       "      <td>...</td>\n",
       "      <td>...</td>\n",
       "      <td>...</td>\n",
       "      <td>...</td>\n",
       "      <td>...</td>\n",
       "      <td>...</td>\n",
       "      <td>...</td>\n",
       "      <td>...</td>\n",
       "      <td>...</td>\n",
       "      <td>...</td>\n",
       "      <td>...</td>\n",
       "      <td>...</td>\n",
       "      <td>...</td>\n",
       "      <td>...</td>\n",
       "      <td>...</td>\n",
       "      <td>...</td>\n",
       "      <td>...</td>\n",
       "      <td>...</td>\n",
       "    </tr>\n",
       "    <tr>\n",
       "      <td>1055392</td>\n",
       "      <td>152</td>\n",
       "      <td>1036</td>\n",
       "      <td>1041</td>\n",
       "      <td>1041</td>\n",
       "      <td>1036</td>\n",
       "      <td>574</td>\n",
       "      <td>1036</td>\n",
       "      <td>1036</td>\n",
       "      <td>7</td>\n",
       "      <td>1240</td>\n",
       "      <td>...</td>\n",
       "      <td>6509</td>\n",
       "      <td>6501</td>\n",
       "      <td>6508</td>\n",
       "      <td>6493</td>\n",
       "      <td>6374</td>\n",
       "      <td>5021</td>\n",
       "      <td>5021</td>\n",
       "      <td>5182</td>\n",
       "      <td>0</td>\n",
       "      <td>5183</td>\n",
       "    </tr>\n",
       "    <tr>\n",
       "      <td>1055393</td>\n",
       "      <td>531</td>\n",
       "      <td>1415</td>\n",
       "      <td>1420</td>\n",
       "      <td>1420</td>\n",
       "      <td>1415</td>\n",
       "      <td>953</td>\n",
       "      <td>1415</td>\n",
       "      <td>1415</td>\n",
       "      <td>386</td>\n",
       "      <td>1619</td>\n",
       "      <td>...</td>\n",
       "      <td>6880</td>\n",
       "      <td>6887</td>\n",
       "      <td>6872</td>\n",
       "      <td>6753</td>\n",
       "      <td>5400</td>\n",
       "      <td>5400</td>\n",
       "      <td>5561</td>\n",
       "      <td>5562</td>\n",
       "      <td>1</td>\n",
       "      <td>5302</td>\n",
       "    </tr>\n",
       "    <tr>\n",
       "      <td>1055394</td>\n",
       "      <td>973</td>\n",
       "      <td>978</td>\n",
       "      <td>978</td>\n",
       "      <td>973</td>\n",
       "      <td>511</td>\n",
       "      <td>973</td>\n",
       "      <td>973</td>\n",
       "      <td>-56</td>\n",
       "      <td>1177</td>\n",
       "      <td>1367</td>\n",
       "      <td>...</td>\n",
       "      <td>6438</td>\n",
       "      <td>6445</td>\n",
       "      <td>6430</td>\n",
       "      <td>6311</td>\n",
       "      <td>4958</td>\n",
       "      <td>4958</td>\n",
       "      <td>5119</td>\n",
       "      <td>5120</td>\n",
       "      <td>1</td>\n",
       "      <td>4859</td>\n",
       "    </tr>\n",
       "    <tr>\n",
       "      <td>1055395</td>\n",
       "      <td>975</td>\n",
       "      <td>975</td>\n",
       "      <td>970</td>\n",
       "      <td>508</td>\n",
       "      <td>970</td>\n",
       "      <td>970</td>\n",
       "      <td>-58</td>\n",
       "      <td>1174</td>\n",
       "      <td>1364</td>\n",
       "      <td>375</td>\n",
       "      <td>...</td>\n",
       "      <td>6435</td>\n",
       "      <td>6442</td>\n",
       "      <td>6427</td>\n",
       "      <td>6308</td>\n",
       "      <td>4955</td>\n",
       "      <td>4955</td>\n",
       "      <td>5116</td>\n",
       "      <td>5117</td>\n",
       "      <td>1</td>\n",
       "      <td>4856</td>\n",
       "    </tr>\n",
       "    <tr>\n",
       "      <td>1055396</td>\n",
       "      <td>975</td>\n",
       "      <td>970</td>\n",
       "      <td>508</td>\n",
       "      <td>970</td>\n",
       "      <td>970</td>\n",
       "      <td>-58</td>\n",
       "      <td>1174</td>\n",
       "      <td>1364</td>\n",
       "      <td>375</td>\n",
       "      <td>345</td>\n",
       "      <td>...</td>\n",
       "      <td>6435</td>\n",
       "      <td>6442</td>\n",
       "      <td>6427</td>\n",
       "      <td>6308</td>\n",
       "      <td>4955</td>\n",
       "      <td>4955</td>\n",
       "      <td>5116</td>\n",
       "      <td>5117</td>\n",
       "      <td>1</td>\n",
       "      <td>4356</td>\n",
       "    </tr>\n",
       "  </tbody>\n",
       "</table>\n",
       "<p>1055397 rows × 502 columns</p>\n",
       "</div>"
      ],
      "text/plain": [
       "         sell_0  sell_1  sell_2  sell_3  sell_4  sell_5  sell_6  sell_7  \\\n",
       "0          -206    -206    -206    -204    -203    -203    -259    -259   \n",
       "1          -205    -205    -205    -203    -202    -202    -258    -258   \n",
       "2          -206    -206    -206    -204    -203    -203    -259    -259   \n",
       "3          -116    -116    -116    -114    -113    -113    -169    -169   \n",
       "4          -312    -312    -312    -310    -309    -309    -365    -365   \n",
       "...         ...     ...     ...     ...     ...     ...     ...     ...   \n",
       "1055392     152    1036    1041    1041    1036     574    1036    1036   \n",
       "1055393     531    1415    1420    1420    1415     953    1415    1415   \n",
       "1055394     973     978     978     973     511     973     973     -56   \n",
       "1055395     975     975     970     508     970     970     -58    1174   \n",
       "1055396     975     970     508     970     970     -58    1174    1364   \n",
       "\n",
       "         sell_8  sell_9  ...  buy_242  buy_243  buy_244  buy_245  buy_246  \\\n",
       "0          -259    -259  ...     -578     -578     -658     -613     -614   \n",
       "1          -258    -258  ...     -577     -657     -612     -613     -653   \n",
       "2          -259    -259  ...     -658     -613     -614     -654     -644   \n",
       "3          -169    -169  ...     -523     -524     -564     -554     -392   \n",
       "4          -365    -365  ...     -720     -760     -750     -588    -1508   \n",
       "...         ...     ...  ...      ...      ...      ...      ...      ...   \n",
       "1055392       7    1240  ...     6509     6501     6508     6493     6374   \n",
       "1055393     386    1619  ...     6880     6887     6872     6753     5400   \n",
       "1055394    1177    1367  ...     6438     6445     6430     6311     4958   \n",
       "1055395    1364     375  ...     6435     6442     6427     6308     4955   \n",
       "1055396     375     345  ...     6435     6442     6427     6308     4955   \n",
       "\n",
       "         buy_247  buy_248  buy_249  side  price  \n",
       "0           -654     -644     -482     0  -1402  \n",
       "1           -643     -481    -1401     0  -1401  \n",
       "2           -482    -1402    -1402     0   -482  \n",
       "3          -1312    -1312     -392     0   -392  \n",
       "4          -1508     -588     -588     0   -587  \n",
       "...          ...      ...      ...   ...    ...  \n",
       "1055392     5021     5021     5182     0   5183  \n",
       "1055393     5400     5561     5562     1   5302  \n",
       "1055394     4958     5119     5120     1   4859  \n",
       "1055395     4955     5116     5117     1   4856  \n",
       "1055396     4955     5116     5117     1   4356  \n",
       "\n",
       "[1055397 rows x 502 columns]"
      ]
     },
     "execution_count": 3,
     "metadata": {},
     "output_type": "execute_result"
    }
   ],
   "source": [
    "t"
   ]
  },
  {
   "cell_type": "code",
   "execution_count": 4,
   "metadata": {},
   "outputs": [],
   "source": [
    "import lightgbm as lgb"
   ]
  },
  {
   "cell_type": "code",
   "execution_count": 5,
   "metadata": {},
   "outputs": [
    {
     "data": {
      "text/plain": [
       "(1055397, 502)"
      ]
     },
     "execution_count": 5,
     "metadata": {},
     "output_type": "execute_result"
    }
   ],
   "source": [
    "t.shape"
   ]
  },
  {
   "cell_type": "code",
   "execution_count": 16,
   "metadata": {},
   "outputs": [],
   "source": [
    "t[\"price\"] = t[\"price\"] > (t[\"sell_0\"] + t[\"buy_0\"]) / 2 * 1.05"
   ]
  },
  {
   "cell_type": "code",
   "execution_count": 17,
   "metadata": {},
   "outputs": [],
   "source": [
    "train, test = t[:800000], t[900000:]"
   ]
  },
  {
   "cell_type": "code",
   "execution_count": 18,
   "metadata": {},
   "outputs": [
    {
     "data": {
      "text/plain": [
       "((800000, 502), (155397, 502))"
      ]
     },
     "execution_count": 18,
     "metadata": {},
     "output_type": "execute_result"
    }
   ],
   "source": [
    "train.shape, test.shape"
   ]
  },
  {
   "cell_type": "code",
   "execution_count": 19,
   "metadata": {},
   "outputs": [],
   "source": [
    "X_train, y_train = train.drop(\"price\", axis=1), train[[\"price\"]]"
   ]
  },
  {
   "cell_type": "code",
   "execution_count": 20,
   "metadata": {},
   "outputs": [],
   "source": [
    "X_test, y_test = test.drop(\"price\", axis=1), test[[\"price\"]]"
   ]
  },
  {
   "cell_type": "code",
   "execution_count": 21,
   "metadata": {},
   "outputs": [],
   "source": [
    "lgb_train = lgb.Dataset(X_train, y_train)"
   ]
  },
  {
   "cell_type": "code",
   "execution_count": 22,
   "metadata": {},
   "outputs": [],
   "source": [
    "lgb_eval = lgb.Dataset(X_test, y_test, reference=lgb_train)"
   ]
  },
  {
   "cell_type": "code",
   "execution_count": 23,
   "metadata": {},
   "outputs": [],
   "source": [
    "params = {\n",
    "    'objective': 'binary',\n",
    "    'metric': 'binary_error'\n",
    "}              "
   ]
  },
  {
   "cell_type": "code",
   "execution_count": 24,
   "metadata": {},
   "outputs": [
    {
     "name": "stdout",
     "output_type": "stream",
     "text": [
      "[1]\tvalid_0's binary_error: 0.012941\n",
      "Training until validation scores don't improve for 10 rounds.\n",
      "[2]\tvalid_0's binary_error: 0.0128445\n",
      "[3]\tvalid_0's binary_error: 0.0128574\n",
      "[4]\tvalid_0's binary_error: 0.0128574\n",
      "[5]\tvalid_0's binary_error: 0.0128574\n",
      "[6]\tvalid_0's binary_error: 0.0128574\n",
      "[7]\tvalid_0's binary_error: 0.0128574\n",
      "[8]\tvalid_0's binary_error: 0.0128445\n",
      "[9]\tvalid_0's binary_error: 0.0128445\n",
      "[10]\tvalid_0's binary_error: 0.0128445\n",
      "[11]\tvalid_0's binary_error: 0.0128445\n",
      "[12]\tvalid_0's binary_error: 0.0128445\n",
      "Early stopping, best iteration is:\n",
      "[2]\tvalid_0's binary_error: 0.0128445\n"
     ]
    }
   ],
   "source": [
    "gbm = lgb.train(params, lgb_train, valid_sets=lgb_eval)"
   ]
  },
  {
   "cell_type": "code",
   "execution_count": 29,
   "metadata": {},
   "outputs": [
    {
     "data": {
      "text/plain": [
       "(0.4481422560785142, 0.4481422560785142)"
      ]
     },
     "execution_count": 29,
     "metadata": {},
     "output_type": "execute_result"
    }
   ],
   "source": [
    "max(gbm.predict(y_test)), min(gbm.predict(y_test))"
   ]
  },
  {
   "cell_type": "code",
   "execution_count": null,
   "metadata": {},
   "outputs": [],
   "source": []
  }
 ],
 "metadata": {
  "kernelspec": {
   "display_name": "Python 3",
   "language": "python",
   "name": "python3"
  },
  "language_info": {
   "codemirror_mode": {
    "name": "ipython",
    "version": 3
   },
   "file_extension": ".py",
   "mimetype": "text/x-python",
   "name": "python",
   "nbconvert_exporter": "python",
   "pygments_lexer": "ipython3",
   "version": "3.7.3"
  }
 },
 "nbformat": 4,
 "nbformat_minor": 2
}
